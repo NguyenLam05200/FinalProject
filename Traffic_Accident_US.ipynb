{
 "cells": [
  {
   "cell_type": "markdown",
   "metadata": {},
   "source": [
    "<h1>Mục Lục <br />\n",
    "    <span class=\"tocSkip\"></span>\n",
    "</h1>\n",
    "<div class=\"toc\">\n",
    "    <ul class=\"toc-item\">\n",
    "        <li>\n",
    "            <span>\n",
    "                <a href=\"#Thu-thập-dữ-liệu\" data-toc-modified-id=\"Thu-thập-dữ-liệu\">\n",
    "                    <span class=\"toc-item-num\">1&nbsp;&nbsp;</span>\n",
    "                    Thu thập dữ liệu\n",
    "                </a>\n",
    "            </span>\n",
    "        </li>\n",
    "        <li>\n",
    "            <span>\n",
    "                <a href=\"#Đọc,-Khám-phá-dữ-liệu\" data-toc-modified-id=\"Đọc,-Khám-phá-dữ-liệu\">\n",
    "                    <span class=\"toc-item-num\">2&nbsp;&nbsp;</span>\n",
    "                    Đọc, khám phá dữ liệu\n",
    "                </a>\n",
    "            </span>\n",
    "            <ul class=\"toc-item\"></ul>\n",
    "        </li>\n",
    "        <li>\n",
    "            <span>\n",
    "                <a href=\"#Tiền-xử-lý-dữ-liệu\" data-toc-modified-id=\"Tiền-xử-lý-dữ-liệu\">\n",
    "                    <span class=\"toc-item-num\">3&nbsp;&nbsp;</span>\n",
    "                    Tiền xử lý dữ liệu\n",
    "                </a>\n",
    "            </span>\n",
    "        </li>\n",
    "        <li>\n",
    "            <span>\n",
    "                <a href=\"#Trả-lời-các-câu-hỏi\" data-toc-modified-id=\"Trả-lời-các-câu-hỏi\">\n",
    "                    <span class=\"toc-item-num\">4&nbsp;&nbsp;</span>\n",
    "                    Trả lời các câu hỏi\n",
    "                </a>\n",
    "            </span>\n",
    "        </li>\n",
    "        <li>\n",
    "            <span>\n",
    "                <a href=\"#Nhìn-lại-quá-trình-làm\" data-toc-modified-id=\"Nhìn-lại-quá-trình-làm\">\n",
    "                    <span class=\"toc-item-num\">5&nbsp;&nbsp;</span>\n",
    "                    Nhìn lại quá trình làm</a>\n",
    "            </span>\n",
    "        </li>\n",
    "        <li>\n",
    "            <span>\n",
    "                <a href=\"#Tài-liệu-tham-khảo\" data-toc-modified-id=\"Tài-liệu-tham-khảo\">\n",
    "                    <span class=\"toc-item-num\">6&nbsp;&nbsp;</span>\n",
    "                    Tài liệu tham khảo\n",
    "                </a>\n",
    "            </span>\n",
    "        </li>\n",
    "    </ul>\n",
    "</div>"
   ]
  },
  {
   "cell_type": "markdown",
   "metadata": {},
   "source": [
    "# Thu thập dữ liệu"
   ]
  },
  {
   "cell_type": "markdown",
   "metadata": {},
   "source": [
    "- Chủ đề của tập dữ liệu: US-Accidents\n",
    "- Nguồn của tập dữ liệu: https://www.kaggle.com/sobhanmoosavi/us-accidents\n",
    "- Mô tả sơ bộ về tập dữ liệu:\n",
    "    - Đây là tập dữ liệu tai nạn giao thông trên lãnh thổ Hoa Kì\n",
    "    - Bộ dữ liệu có khoảng 3 triệu dòng được thu thập liên tục từ 02/2016 đến 12/2020"
   ]
  },
  {
   "cell_type": "markdown",
   "metadata": {},
   "source": [
    "# Đọc, khám phá dữ liệu"
   ]
  },
  {
   "cell_type": "markdown",
   "metadata": {},
   "source": [
    "### Import các thư viện cần thiết"
   ]
  },
  {
   "cell_type": "code",
   "execution_count": 1,
   "metadata": {},
   "outputs": [
    {
     "name": "stdout",
     "output_type": "stream",
     "text": [
      "/home/congvuong1518/anaconda3/bin/python\r\n"
     ]
    }
   ],
   "source": [
    "! which python"
   ]
  },
  {
   "cell_type": "code",
   "execution_count": 2,
   "metadata": {},
   "outputs": [],
   "source": [
    "import pandas as pd\n",
    "import numpy as np\n",
    "import matplotlib.pyplot as plt"
   ]
  },
  {
   "cell_type": "markdown",
   "metadata": {},
   "source": [
    "## Đọc dữ liệu"
   ]
  },
  {
   "cell_type": "markdown",
   "metadata": {},
   "source": [
    "**Tập dữ liệu tai nạn giao thông tại Mỹ từ năm 2016 - 2020**"
   ]
  },
  {
   "cell_type": "code",
   "execution_count": 3,
   "metadata": {},
   "outputs": [],
   "source": [
    "data_df=pd.read_csv('US_Accidents_Dec20_Updated.csv')"
   ]
  },
  {
   "cell_type": "code",
   "execution_count": 4,
   "metadata": {},
   "outputs": [
    {
     "data": {
      "text/html": [
       "<div>\n",
       "<style scoped>\n",
       "    .dataframe tbody tr th:only-of-type {\n",
       "        vertical-align: middle;\n",
       "    }\n",
       "\n",
       "    .dataframe tbody tr th {\n",
       "        vertical-align: top;\n",
       "    }\n",
       "\n",
       "    .dataframe thead th {\n",
       "        text-align: right;\n",
       "    }\n",
       "</style>\n",
       "<table border=\"1\" class=\"dataframe\">\n",
       "  <thead>\n",
       "    <tr style=\"text-align: right;\">\n",
       "      <th></th>\n",
       "      <th>ID</th>\n",
       "      <th>Severity</th>\n",
       "      <th>Start_Time</th>\n",
       "      <th>End_Time</th>\n",
       "      <th>Start_Lat</th>\n",
       "      <th>Start_Lng</th>\n",
       "      <th>End_Lat</th>\n",
       "      <th>End_Lng</th>\n",
       "      <th>Distance(mi)</th>\n",
       "      <th>Description</th>\n",
       "      <th>...</th>\n",
       "      <th>Roundabout</th>\n",
       "      <th>Station</th>\n",
       "      <th>Stop</th>\n",
       "      <th>Traffic_Calming</th>\n",
       "      <th>Traffic_Signal</th>\n",
       "      <th>Turning_Loop</th>\n",
       "      <th>Sunrise_Sunset</th>\n",
       "      <th>Civil_Twilight</th>\n",
       "      <th>Nautical_Twilight</th>\n",
       "      <th>Astronomical_Twilight</th>\n",
       "    </tr>\n",
       "  </thead>\n",
       "  <tbody>\n",
       "    <tr>\n",
       "      <th>0</th>\n",
       "      <td>A-1</td>\n",
       "      <td>2</td>\n",
       "      <td>2019-05-21 08:29:55</td>\n",
       "      <td>2019-05-21 09:29:40</td>\n",
       "      <td>34.808868</td>\n",
       "      <td>-82.269157</td>\n",
       "      <td>34.808868</td>\n",
       "      <td>-82.269157</td>\n",
       "      <td>0.0</td>\n",
       "      <td>Accident on Tanner Rd at Pennbrooke Ln.</td>\n",
       "      <td>...</td>\n",
       "      <td>False</td>\n",
       "      <td>False</td>\n",
       "      <td>False</td>\n",
       "      <td>False</td>\n",
       "      <td>False</td>\n",
       "      <td>False</td>\n",
       "      <td>Day</td>\n",
       "      <td>Day</td>\n",
       "      <td>Day</td>\n",
       "      <td>Day</td>\n",
       "    </tr>\n",
       "    <tr>\n",
       "      <th>1</th>\n",
       "      <td>A-2</td>\n",
       "      <td>2</td>\n",
       "      <td>2019-10-07 17:43:09</td>\n",
       "      <td>2019-10-07 19:42:50</td>\n",
       "      <td>35.090080</td>\n",
       "      <td>-80.745560</td>\n",
       "      <td>35.090080</td>\n",
       "      <td>-80.745560</td>\n",
       "      <td>0.0</td>\n",
       "      <td>Accident on Houston Branch Rd at Providence Br...</td>\n",
       "      <td>...</td>\n",
       "      <td>False</td>\n",
       "      <td>False</td>\n",
       "      <td>False</td>\n",
       "      <td>False</td>\n",
       "      <td>False</td>\n",
       "      <td>False</td>\n",
       "      <td>Day</td>\n",
       "      <td>Day</td>\n",
       "      <td>Day</td>\n",
       "      <td>Day</td>\n",
       "    </tr>\n",
       "    <tr>\n",
       "      <th>2</th>\n",
       "      <td>A-3</td>\n",
       "      <td>2</td>\n",
       "      <td>2020-12-13 21:53:00</td>\n",
       "      <td>2020-12-13 22:44:00</td>\n",
       "      <td>37.145730</td>\n",
       "      <td>-121.985052</td>\n",
       "      <td>37.165850</td>\n",
       "      <td>-121.988062</td>\n",
       "      <td>1.4</td>\n",
       "      <td>Stationary traffic on CA-17 from Summit Rd (CA...</td>\n",
       "      <td>...</td>\n",
       "      <td>False</td>\n",
       "      <td>False</td>\n",
       "      <td>False</td>\n",
       "      <td>False</td>\n",
       "      <td>False</td>\n",
       "      <td>False</td>\n",
       "      <td>Night</td>\n",
       "      <td>Night</td>\n",
       "      <td>Night</td>\n",
       "      <td>Night</td>\n",
       "    </tr>\n",
       "    <tr>\n",
       "      <th>3</th>\n",
       "      <td>A-4</td>\n",
       "      <td>2</td>\n",
       "      <td>2018-04-17 16:51:23</td>\n",
       "      <td>2018-04-17 17:50:46</td>\n",
       "      <td>39.110390</td>\n",
       "      <td>-119.773781</td>\n",
       "      <td>39.110390</td>\n",
       "      <td>-119.773781</td>\n",
       "      <td>0.0</td>\n",
       "      <td>Accident on US-395 Southbound at Topsy Ln.</td>\n",
       "      <td>...</td>\n",
       "      <td>False</td>\n",
       "      <td>False</td>\n",
       "      <td>False</td>\n",
       "      <td>False</td>\n",
       "      <td>True</td>\n",
       "      <td>False</td>\n",
       "      <td>Day</td>\n",
       "      <td>Day</td>\n",
       "      <td>Day</td>\n",
       "      <td>Day</td>\n",
       "    </tr>\n",
       "    <tr>\n",
       "      <th>4</th>\n",
       "      <td>A-5</td>\n",
       "      <td>3</td>\n",
       "      <td>2016-08-31 17:40:49</td>\n",
       "      <td>2016-08-31 18:10:49</td>\n",
       "      <td>26.102942</td>\n",
       "      <td>-80.265091</td>\n",
       "      <td>26.102942</td>\n",
       "      <td>-80.265091</td>\n",
       "      <td>0.0</td>\n",
       "      <td>Accident on I-595 Westbound at Exit 4 / Pine I...</td>\n",
       "      <td>...</td>\n",
       "      <td>False</td>\n",
       "      <td>False</td>\n",
       "      <td>False</td>\n",
       "      <td>False</td>\n",
       "      <td>True</td>\n",
       "      <td>False</td>\n",
       "      <td>Day</td>\n",
       "      <td>Day</td>\n",
       "      <td>Day</td>\n",
       "      <td>Day</td>\n",
       "    </tr>\n",
       "  </tbody>\n",
       "</table>\n",
       "<p>5 rows × 47 columns</p>\n",
       "</div>"
      ],
      "text/plain": [
       "    ID  Severity           Start_Time             End_Time  Start_Lat  \\\n",
       "0  A-1         2  2019-05-21 08:29:55  2019-05-21 09:29:40  34.808868   \n",
       "1  A-2         2  2019-10-07 17:43:09  2019-10-07 19:42:50  35.090080   \n",
       "2  A-3         2  2020-12-13 21:53:00  2020-12-13 22:44:00  37.145730   \n",
       "3  A-4         2  2018-04-17 16:51:23  2018-04-17 17:50:46  39.110390   \n",
       "4  A-5         3  2016-08-31 17:40:49  2016-08-31 18:10:49  26.102942   \n",
       "\n",
       "    Start_Lng    End_Lat     End_Lng  Distance(mi)  \\\n",
       "0  -82.269157  34.808868  -82.269157           0.0   \n",
       "1  -80.745560  35.090080  -80.745560           0.0   \n",
       "2 -121.985052  37.165850 -121.988062           1.4   \n",
       "3 -119.773781  39.110390 -119.773781           0.0   \n",
       "4  -80.265091  26.102942  -80.265091           0.0   \n",
       "\n",
       "                                         Description  ...  Roundabout Station  \\\n",
       "0            Accident on Tanner Rd at Pennbrooke Ln.  ...       False   False   \n",
       "1  Accident on Houston Branch Rd at Providence Br...  ...       False   False   \n",
       "2  Stationary traffic on CA-17 from Summit Rd (CA...  ...       False   False   \n",
       "3         Accident on US-395 Southbound at Topsy Ln.  ...       False   False   \n",
       "4  Accident on I-595 Westbound at Exit 4 / Pine I...  ...       False   False   \n",
       "\n",
       "    Stop Traffic_Calming Traffic_Signal Turning_Loop Sunrise_Sunset  \\\n",
       "0  False           False          False        False            Day   \n",
       "1  False           False          False        False            Day   \n",
       "2  False           False          False        False          Night   \n",
       "3  False           False           True        False            Day   \n",
       "4  False           False           True        False            Day   \n",
       "\n",
       "  Civil_Twilight Nautical_Twilight Astronomical_Twilight  \n",
       "0            Day               Day                   Day  \n",
       "1            Day               Day                   Day  \n",
       "2          Night             Night                 Night  \n",
       "3            Day               Day                   Day  \n",
       "4            Day               Day                   Day  \n",
       "\n",
       "[5 rows x 47 columns]"
      ]
     },
     "execution_count": 4,
     "metadata": {},
     "output_type": "execute_result"
    }
   ],
   "source": [
    "data_df.head()"
   ]
  },
  {
   "cell_type": "markdown",
   "metadata": {},
   "source": [
    "## Khám phá dữ liệu"
   ]
  },
  {
   "cell_type": "markdown",
   "metadata": {},
   "source": [
    "### Dữ liệu có bao nhiêu dòng, bao nhiêu cột?"
   ]
  },
  {
   "cell_type": "code",
   "execution_count": 5,
   "metadata": {},
   "outputs": [
    {
     "data": {
      "text/plain": [
       "(2906610, 47)"
      ]
     },
     "execution_count": 5,
     "metadata": {},
     "output_type": "execute_result"
    }
   ],
   "source": [
    "data_df.shape"
   ]
  },
  {
   "cell_type": "markdown",
   "metadata": {},
   "source": [
    "- **Số cột: 47**\n",
    "- **Số dòng: 2906610**"
   ]
  },
  {
   "cell_type": "markdown",
   "metadata": {},
   "source": [
    "### Dữ liệu có bị lặp hay không?"
   ]
  },
  {
   "cell_type": "code",
   "execution_count": 6,
   "metadata": {
    "scrolled": true
   },
   "outputs": [
    {
     "data": {
      "text/plain": [
       "0"
      ]
     },
     "execution_count": 6,
     "metadata": {},
     "output_type": "execute_result"
    }
   ],
   "source": [
    "data_df.duplicated().sum()"
   ]
  },
  {
   "cell_type": "markdown",
   "metadata": {},
   "source": [
    "- **Dữ liệu không bị trùng lặp, mỗi ID tượng trưng cho 01 vụ tai nạn khác nhau**"
   ]
  },
  {
   "cell_type": "markdown",
   "metadata": {},
   "source": [
    "### Dữ liệu có bị thiếu hay không?"
   ]
  },
  {
   "cell_type": "code",
   "execution_count": 7,
   "metadata": {},
   "outputs": [
    {
     "data": {
      "text/plain": [
       "ID                             0\n",
       "Severity                       0\n",
       "Start_Time                     0\n",
       "End_Time                       0\n",
       "Start_Lat                      0\n",
       "Start_Lng                      0\n",
       "End_Lat                   282821\n",
       "End_Lng                   282821\n",
       "Distance(mi)                   0\n",
       "Description                    0\n",
       "Number                   1891672\n",
       "Street                         0\n",
       "Side                           0\n",
       "City                         108\n",
       "County                         0\n",
       "State                          0\n",
       "Zipcode                     1114\n",
       "Country                        0\n",
       "Timezone                    3430\n",
       "Airport_Code                6608\n",
       "Weather_Timestamp          46917\n",
       "Temperature(F)             67224\n",
       "Wind_Chill(F)            1183859\n",
       "Humidity(%)                71270\n",
       "Pressure(in)               56908\n",
       "Visibility(mi)             72078\n",
       "Wind_Direction             63474\n",
       "Wind_Speed(mph)           307163\n",
       "Precipitation(in)        1301326\n",
       "Weather_Condition          71851\n",
       "Amenity                        0\n",
       "Bump                           0\n",
       "Crossing                       0\n",
       "Give_Way                       0\n",
       "Junction                       0\n",
       "No_Exit                        0\n",
       "Railway                        0\n",
       "Roundabout                     0\n",
       "Station                        0\n",
       "Stop                           0\n",
       "Traffic_Calming                0\n",
       "Traffic_Signal                 0\n",
       "Turning_Loop                   0\n",
       "Sunrise_Sunset               110\n",
       "Civil_Twilight               110\n",
       "Nautical_Twilight            110\n",
       "Astronomical_Twilight        110\n",
       "dtype: int64"
      ]
     },
     "execution_count": 7,
     "metadata": {},
     "output_type": "execute_result"
    }
   ],
   "source": [
    "data_df.isna().sum()"
   ]
  },
  {
   "cell_type": "markdown",
   "metadata": {},
   "source": [
    "**Khá nhiều cột bị thiếu, trong đó nổi bật là:**\n",
    "- `End_Lat`\n",
    "- `End_Lng`\n",
    "- `Number`\n",
    "- `Wind_Chill(F)`\n",
    "- `Wind_Speed(mph)`\n",
    "- `Precipitation(in)`"
   ]
  },
  {
   "cell_type": "markdown",
   "metadata": {},
   "source": [
    "### Ý nghĩa các cột dữ liệu"
   ]
  },
  {
   "cell_type": "markdown",
   "metadata": {},
   "source": [
    "- **ID**: số thứ tự các vụ tai nạn.\n",
    "- **Severity**: Mức độ nghiêm trọng của vụ tai nạn ( từ 1 -> 4)\n",
    "- **Start_Time**: Thời gian xảy ra tai nạn theo giờ địa phương\n",
    "- **End_Time**: Thời gian kết thúc vụ tai nạn. (Giao thông bình thường trở lại)\n",
    "- **Start_Lat**: Vĩ độ điểm xảy ra tai nạn.\n",
    "- **Start_Lng**: Kinh độ điểm xảy ra tai nạn.\n",
    "- **End_Lat**: Vĩ độ điểm kết thúc của vụ tai nạn.\n",
    "- **End_Lng**: Kinh độ điểm kết thúc của vụ tai nạn.\n",
    "- **Distance(mi)**: Quãng đường vụ tai nạn.\n",
    "- **Description**: Mô tả vị trí vụ tai nạn.\n",
    "- **Number**: Số nhà.\n",
    "- **Street**: Tên đường.\n",
    "- **Side**: Phía tương đối của đường(Trái/Phải).\n",
    "- **City**: Tên thành phố.\n",
    "- **County**: Tên quận.\n",
    "- **State**: Tên bang/tiểu bang.\n",
    "- **Zipcode**: Mã Zipcode nơi xảy ra tai nạn.\n",
    "- **Country**: Tên quốc gia.\n",
    "- **Timezone**: Múi giờ nơi xảy ra tai nạn (miền Đông, Miền Trung...)\n",
    "- **Airport_Code**:Biểu thị một trạm thời tiết ở sân bay là trạm gần nhất với vị trí xảy ra tai nạn.\n",
    "- **Weather_Timestamp**: Thời gian của bảng ghi thời tiết.\n",
    "- **Temperature(F)**: Nhiệt độ ( tính theo độ F)\n",
    "- **Wind_Chill(F)**: Nhiệt độ gió (tính theo độ F)\n",
    "- **Humidity(%)**: Độ ẩm\n",
    "- **Pressure(in)**: Áp suất không khí ( tính bằng inch)\n",
    "- **Visibility(mi)**: Tầm nhìn (mét)\n",
    "- **Wind_Direction**: Hướng gió\n",
    "- **Wind_Speed(mph)**: Tốc độ gió\n",
    "- **Precipitation(in)**: Lượng mưa, nếu có.\n",
    "- **Weather_Condition**: Tình trạng thời tiết.\n",
    "- **Amenity**: Có hay không vị trí đặc biệt(POI) ở gần đó.\n",
    "- **Bump**: Có gờ giảm tốc ở gần đó.\n",
    "- **Crossing**: Có vạch qua đường ở gần đó.\n",
    "- **Give_Way**: Biển báo/ chỉ dẫn để nhường quyền ưu tiên cho các phương tiện đến từ hướng khác.\n",
    "- **Junction**: Có đường giao nhau ở gần đó.\n",
    "- **No_Exit**: Có phải đường cụt hay không.\n",
    "- **Railway**: Có đường sắt ở gần đó.\n",
    "- **Roundabout**: Có bùng binh ở gần đó.\n",
    "- **Station**: Có trạm xe ở gần đó.\n",
    "- **Stop**: Có biển báo dừng ở gần đó.\n",
    "- **Traffic_Calming**: Có điểm làm dịu giao thông( giảm tốc độ/ giảm lưu lượng/ cải thiện an toàn cho người) ở gần đó.\n",
    "- **Traffic_Signal**: Có đèn tín hiệu ở gần đó.\n",
    "- **Turning_Loop**: Có đường vòng(loại đường thường dùng để quay đầu) ở gần đó.\n",
    "- **Sunrise_Sunset**: Khoảng thời gian trong ngày. (Ngày/Đêm)\n",
    "- **Civil_Twilight**: Khoảng thời gian trong ngày. (Tính theo Civil Twilight)\n",
    "- **Nautical_Twilight**: Khoảng thời gian trong ngày. (Tính theo Nautical Twilight)\n",
    "- **Astronomical_Twilight**: Khoảng thời gian trong ngày. (Tính theo Astronomical Twilight)"
   ]
  },
  {
   "cell_type": "markdown",
   "metadata": {},
   "source": [
    "### Kiểu dữ liệu của các cột"
   ]
  },
  {
   "cell_type": "code",
   "execution_count": 8,
   "metadata": {},
   "outputs": [
    {
     "data": {
      "text/plain": [
       "ID                        object\n",
       "Severity                   int64\n",
       "Start_Time                object\n",
       "End_Time                  object\n",
       "Start_Lat                float64\n",
       "Start_Lng                float64\n",
       "End_Lat                  float64\n",
       "End_Lng                  float64\n",
       "Distance(mi)             float64\n",
       "Description               object\n",
       "Number                   float64\n",
       "Street                    object\n",
       "Side                      object\n",
       "City                      object\n",
       "County                    object\n",
       "State                     object\n",
       "Zipcode                   object\n",
       "Country                   object\n",
       "Timezone                  object\n",
       "Airport_Code              object\n",
       "Weather_Timestamp         object\n",
       "Temperature(F)           float64\n",
       "Wind_Chill(F)            float64\n",
       "Humidity(%)              float64\n",
       "Pressure(in)             float64\n",
       "Visibility(mi)           float64\n",
       "Wind_Direction            object\n",
       "Wind_Speed(mph)          float64\n",
       "Precipitation(in)        float64\n",
       "Weather_Condition         object\n",
       "Amenity                     bool\n",
       "Bump                        bool\n",
       "Crossing                    bool\n",
       "Give_Way                    bool\n",
       "Junction                    bool\n",
       "No_Exit                     bool\n",
       "Railway                     bool\n",
       "Roundabout                  bool\n",
       "Station                     bool\n",
       "Stop                        bool\n",
       "Traffic_Calming             bool\n",
       "Traffic_Signal              bool\n",
       "Turning_Loop                bool\n",
       "Sunrise_Sunset            object\n",
       "Civil_Twilight            object\n",
       "Nautical_Twilight         object\n",
       "Astronomical_Twilight     object\n",
       "dtype: object"
      ]
     },
     "execution_count": 8,
     "metadata": {},
     "output_type": "execute_result"
    }
   ],
   "source": [
    "data_df.dtypes"
   ]
  },
  {
   "cell_type": "markdown",
   "metadata": {},
   "source": [
    "**Nhận xét:**\n",
    "- Ta nên chuyển các cột **`Start_Time`**, **`End_Time`** về kiểu dữ liệu **Datetime**\n",
    "- Các cột có kiểu **bool** có vẻ liên quan với nhau"
   ]
  },
  {
   "cell_type": "markdown",
   "metadata": {},
   "source": [
    "# Tiền xử lý dữ liệu"
   ]
  },
  {
   "cell_type": "markdown",
   "metadata": {},
   "source": [
    "## Xử lý với các giá trị bị thiếu"
   ]
  },
  {
   "cell_type": "markdown",
   "metadata": {},
   "source": [
    "Vì tập dữ liệu rất lớn (gần 3000000 dòng) nên em sẽ giải quyết theo 2 trường hợp sau.\n",
    "\n",
    "- Đối với cột dữ liệu nào có tổng giá trị bị thiếu lớn hơn 250_000 thì sẽ xóa luôn cột dữ liệu đó.\n",
    "    - `End_Lat`\n",
    "    - `End_Lng`\n",
    "    - `Number`\n",
    "    - `Wind_Chill(F)` \n",
    "    - `Wind_Speed(mph)` \n",
    "    - `Precipitation(in)`\n",
    "- Nếu bé hơn 250_000 thì sẽ xóa đi hàng chứa giá trị thiếu đó.\n",
    "    - `City` (108 hàng)\n",
    "    - `Zipcode` (1114 hàng)\n",
    "    - `Timezone` (3430 hàng)\n",
    "    - `Airport_Code` (6608 hàng)\n",
    "    - `Weather_Timestamp` (46917 hàng)\n",
    "    - `Temperature(F)` (67224 hàng)\n",
    "    - `Humidity(%)` (71270 hàng)\n",
    "    - `Pressure(in)` (56908 hàng)\n",
    "    - `Visibility(mi)` (72708 hàng)\n",
    "    - `Wind_Direction` (63474 hàng)\n",
    "    - `Weather_Condition` (71851 hàng)\n",
    "    - `Sunrise_Sunset` (110 hàng)\n",
    "    - `Civil_Twilight` (110 hàng)\n",
    "    - `Nautical_Twilight` (110 hàng)\n",
    "    - `Astronomical_Twilight` (110 hàng)"
   ]
  },
  {
   "cell_type": "code",
   "execution_count": 9,
   "metadata": {},
   "outputs": [],
   "source": [
    "data_df=data_df.drop(['End_Lat','End_Lng','Number','Wind_Chill(F)','Wind_Speed(mph)','Wind_Speed(mph)','Precipitation(in)'],axis=1).dropna()"
   ]
  },
  {
   "cell_type": "code",
   "execution_count": 10,
   "metadata": {},
   "outputs": [
    {
     "data": {
      "text/plain": [
       "(2801232, 41)"
      ]
     },
     "execution_count": 10,
     "metadata": {},
     "output_type": "execute_result"
    }
   ],
   "source": [
    "data_df.shape"
   ]
  },
  {
   "cell_type": "markdown",
   "metadata": {},
   "source": [
    "**Bộ dữ liệu được thu gọn khá nhiều và không còn phần tử rỗng**"
   ]
  },
  {
   "cell_type": "markdown",
   "metadata": {},
   "source": [
    "## Xem xét các cột dữ liệu"
   ]
  },
  {
   "cell_type": "markdown",
   "metadata": {},
   "source": [
    "Ở phần đầu, ta thấy các cột **`Amenity`**, **`Bump`**, **`Crossing`**, **`Give_Way`**, **`Junction`**, **`No_Exit`**, **`Railway`**, **`Roundabout`**, **`Station`**, **`Stop`**, **`Traffic_Calming`**, **`Traffic_Signal`**, **`Turning_Loop`** đều dùng để chú thích cho những vị trí đặc biệt trong vụ tai nạn. Quan sát thêm về các cột này, ta thấy giá trị **True** chiếm rất ít. Vì vậy, để làm gọn cho tập dữ liệu, em quyết định gom các cột này lại thành 1 cột chung **`POI`** (Point of Interest)"
   ]
  },
  {
   "cell_type": "code",
   "execution_count": 11,
   "metadata": {},
   "outputs": [],
   "source": [
    "col_list=['Amenity','Bump','Crossing','Give_Way','Junction','No_Exit','Railway','Roundabout','Station','Stop',\n",
    "          'Traffic_Calming','Traffic_Signal','Turning_Loop']"
   ]
  },
  {
   "cell_type": "code",
   "execution_count": 12,
   "metadata": {},
   "outputs": [],
   "source": [
    "data_df['POI']=data_df[col_list].sum(axis=1).astype(bool)"
   ]
  },
  {
   "cell_type": "markdown",
   "metadata": {},
   "source": [
    "**Xem lại tổng số vụ tai nạn ở những vị trí đặc biệt**"
   ]
  },
  {
   "cell_type": "code",
   "execution_count": 13,
   "metadata": {},
   "outputs": [
    {
     "data": {
      "text/plain": [
       "False    1972573\n",
       "True      828659\n",
       "Name: POI, dtype: int64"
      ]
     },
     "execution_count": 13,
     "metadata": {},
     "output_type": "execute_result"
    }
   ],
   "source": [
    "data_df['POI'].value_counts()"
   ]
  },
  {
   "cell_type": "markdown",
   "metadata": {},
   "source": [
    "**Xóa đi các cột sau khi gộp**"
   ]
  },
  {
   "cell_type": "code",
   "execution_count": 14,
   "metadata": {},
   "outputs": [],
   "source": [
    "data_df=data_df.drop(col_list,axis=1)"
   ]
  },
  {
   "cell_type": "markdown",
   "metadata": {},
   "source": [
    "Ở phần đầu, ta thấy các cột **`Sunrise_Sunset`**, **`Civil_Twilight`**, **`Nautical_Twilight`**, **`Astronomical_Twilight`** đều có ý nghĩa là thời gian trong ngày (Ngày/Đêm). Điểm khác nhau duy nhất là người ta dùng góc độ mặt trời so với đường chân trời để tính thời gian ban đêm. \n",
    "Ta có thể nghĩ tới việc chỉ lấy duy nhất cột **`Sunrise_Sunset`** để làm mốc."
   ]
  },
  {
   "cell_type": "code",
   "execution_count": 15,
   "metadata": {},
   "outputs": [],
   "source": [
    "data_df=data_df.drop(['Civil_Twilight','Nautical_Twilight','Astronomical_Twilight'],axis=1)"
   ]
  },
  {
   "cell_type": "markdown",
   "metadata": {},
   "source": [
    "**Xem lại cột `Country`**"
   ]
  },
  {
   "cell_type": "code",
   "execution_count": 16,
   "metadata": {},
   "outputs": [
    {
     "data": {
      "text/plain": [
       "array(['US'], dtype=object)"
      ]
     },
     "execution_count": 16,
     "metadata": {},
     "output_type": "execute_result"
    }
   ],
   "source": [
    "data_df['Country'].unique()"
   ]
  },
  {
   "cell_type": "markdown",
   "metadata": {},
   "source": [
    "Đối với cột **`Country`** . Do đây là dữ liệu tai nạn của nước Mỹ nên cột chỉ có duy nhất 1 giá trị. Giá trị này thật sự không có ý nghĩa nhiều nên chúng ta sẽ xóa nó."
   ]
  },
  {
   "cell_type": "code",
   "execution_count": 17,
   "metadata": {},
   "outputs": [],
   "source": [
    "data_df=data_df.drop('Country',axis=1)"
   ]
  },
  {
   "cell_type": "markdown",
   "metadata": {},
   "source": [
    "## Chuyển đổi kiểu dữ liệu"
   ]
  },
  {
   "cell_type": "markdown",
   "metadata": {},
   "source": [
    "### Chuyển các cột Start_Time, End_Time về kiểu dữ liệu datetime"
   ]
  },
  {
   "cell_type": "markdown",
   "metadata": {},
   "source": [
    "Việc chuyển các cột về đúng kiểu dữ liệu của nó luôn tạo lợi thế rất lớn trong việc xử lý dữ liệu sau này, đặc biệt là kiểu dữ liệu **Datetime** khi chúng ta có thể trích xuất rất nhiều thông tin từ chúng"
   ]
  },
  {
   "cell_type": "code",
   "execution_count": 18,
   "metadata": {},
   "outputs": [],
   "source": [
    "data_df['Start_Time']=pd.to_datetime(data_df['Start_Time'],format='%Y-%m-%d\\n%H:%M:%S',errors='coerce')\n",
    "data_df['End_Time']=pd.to_datetime(data_df['End_Time'],format='%Y-%m-%d\\n%H:%M:%S',errors='coerce')\n",
    "data_df=data_df.dropna()"
   ]
  },
  {
   "cell_type": "markdown",
   "metadata": {},
   "source": [
    "**Cùng xem lại bộ dữ liệu sau khi chúng ta tiền xử lý**"
   ]
  },
  {
   "cell_type": "code",
   "execution_count": 19,
   "metadata": {},
   "outputs": [
    {
     "data": {
      "text/plain": [
       "(2768313, 25)"
      ]
     },
     "execution_count": 19,
     "metadata": {},
     "output_type": "execute_result"
    }
   ],
   "source": [
    "data_df.shape"
   ]
  },
  {
   "cell_type": "markdown",
   "metadata": {},
   "source": [
    "**Nhận xét:**\n",
    "- Không còn các giá trị rỗng\n",
    "- Số cột dữ liệu giảm gần 1 nửa nhưng vẫn giữ được nhiều thông tin cần thiết\n",
    "- Kiểu dữ liệu của các cột được tối ưu"
   ]
  },
  {
   "cell_type": "markdown",
   "metadata": {},
   "source": [
    "# Trả lời các câu hỏi"
   ]
  },
  {
   "cell_type": "code",
   "execution_count": 20,
   "metadata": {},
   "outputs": [
    {
     "data": {
      "text/html": [
       "<div>\n",
       "<style scoped>\n",
       "    .dataframe tbody tr th:only-of-type {\n",
       "        vertical-align: middle;\n",
       "    }\n",
       "\n",
       "    .dataframe tbody tr th {\n",
       "        vertical-align: top;\n",
       "    }\n",
       "\n",
       "    .dataframe thead th {\n",
       "        text-align: right;\n",
       "    }\n",
       "</style>\n",
       "<table border=\"1\" class=\"dataframe\">\n",
       "  <thead>\n",
       "    <tr style=\"text-align: right;\">\n",
       "      <th></th>\n",
       "      <th>ID</th>\n",
       "      <th>Severity</th>\n",
       "      <th>Start_Time</th>\n",
       "      <th>End_Time</th>\n",
       "      <th>Start_Lat</th>\n",
       "      <th>Start_Lng</th>\n",
       "      <th>Distance(mi)</th>\n",
       "      <th>Description</th>\n",
       "      <th>Street</th>\n",
       "      <th>Side</th>\n",
       "      <th>...</th>\n",
       "      <th>Airport_Code</th>\n",
       "      <th>Weather_Timestamp</th>\n",
       "      <th>Temperature(F)</th>\n",
       "      <th>Humidity(%)</th>\n",
       "      <th>Pressure(in)</th>\n",
       "      <th>Visibility(mi)</th>\n",
       "      <th>Wind_Direction</th>\n",
       "      <th>Weather_Condition</th>\n",
       "      <th>Sunrise_Sunset</th>\n",
       "      <th>POI</th>\n",
       "    </tr>\n",
       "  </thead>\n",
       "  <tbody>\n",
       "    <tr>\n",
       "      <th>0</th>\n",
       "      <td>A-1</td>\n",
       "      <td>2</td>\n",
       "      <td>2019-05-21 08:29:55</td>\n",
       "      <td>2019-05-21 09:29:40</td>\n",
       "      <td>34.809</td>\n",
       "      <td>-82.269</td>\n",
       "      <td>0.000</td>\n",
       "      <td>Accident on Tanner Rd at Pennbrooke Ln.</td>\n",
       "      <td>Tanner Rd</td>\n",
       "      <td>R</td>\n",
       "      <td>...</td>\n",
       "      <td>KGMU</td>\n",
       "      <td>2019-05-21 08:53:00</td>\n",
       "      <td>76.000</td>\n",
       "      <td>52.000</td>\n",
       "      <td>28.910</td>\n",
       "      <td>10.000</td>\n",
       "      <td>N</td>\n",
       "      <td>Fair</td>\n",
       "      <td>Day</td>\n",
       "      <td>False</td>\n",
       "    </tr>\n",
       "    <tr>\n",
       "      <th>1</th>\n",
       "      <td>A-2</td>\n",
       "      <td>2</td>\n",
       "      <td>2019-10-07 17:43:09</td>\n",
       "      <td>2019-10-07 19:42:50</td>\n",
       "      <td>35.090</td>\n",
       "      <td>-80.746</td>\n",
       "      <td>0.000</td>\n",
       "      <td>Accident on Houston Branch Rd at Providence Br...</td>\n",
       "      <td>Providence Branch Ln</td>\n",
       "      <td>R</td>\n",
       "      <td>...</td>\n",
       "      <td>KEQY</td>\n",
       "      <td>2019-10-07 17:53:00</td>\n",
       "      <td>76.000</td>\n",
       "      <td>62.000</td>\n",
       "      <td>29.300</td>\n",
       "      <td>10.000</td>\n",
       "      <td>VAR</td>\n",
       "      <td>Cloudy</td>\n",
       "      <td>Day</td>\n",
       "      <td>False</td>\n",
       "    </tr>\n",
       "    <tr>\n",
       "      <th>2</th>\n",
       "      <td>A-3</td>\n",
       "      <td>2</td>\n",
       "      <td>2020-12-13 21:53:00</td>\n",
       "      <td>2020-12-13 22:44:00</td>\n",
       "      <td>37.146</td>\n",
       "      <td>-121.985</td>\n",
       "      <td>1.400</td>\n",
       "      <td>Stationary traffic on CA-17 from Summit Rd (CA...</td>\n",
       "      <td>Santa Cruz Hwy</td>\n",
       "      <td>R</td>\n",
       "      <td>...</td>\n",
       "      <td>KSJC</td>\n",
       "      <td>2020-12-13 21:53:00</td>\n",
       "      <td>51.000</td>\n",
       "      <td>80.000</td>\n",
       "      <td>30.170</td>\n",
       "      <td>10.000</td>\n",
       "      <td>W</td>\n",
       "      <td>Fair</td>\n",
       "      <td>Night</td>\n",
       "      <td>False</td>\n",
       "    </tr>\n",
       "    <tr>\n",
       "      <th>3</th>\n",
       "      <td>A-4</td>\n",
       "      <td>2</td>\n",
       "      <td>2018-04-17 16:51:23</td>\n",
       "      <td>2018-04-17 17:50:46</td>\n",
       "      <td>39.110</td>\n",
       "      <td>-119.774</td>\n",
       "      <td>0.000</td>\n",
       "      <td>Accident on US-395 Southbound at Topsy Ln.</td>\n",
       "      <td>US Highway 395 S</td>\n",
       "      <td>R</td>\n",
       "      <td>...</td>\n",
       "      <td>KCXP</td>\n",
       "      <td>2018-04-17 16:55:00</td>\n",
       "      <td>53.600</td>\n",
       "      <td>16.000</td>\n",
       "      <td>30.160</td>\n",
       "      <td>10.000</td>\n",
       "      <td>SSW</td>\n",
       "      <td>Clear</td>\n",
       "      <td>Day</td>\n",
       "      <td>True</td>\n",
       "    </tr>\n",
       "    <tr>\n",
       "      <th>4</th>\n",
       "      <td>A-5</td>\n",
       "      <td>3</td>\n",
       "      <td>2016-08-31 17:40:49</td>\n",
       "      <td>2016-08-31 18:10:49</td>\n",
       "      <td>26.103</td>\n",
       "      <td>-80.265</td>\n",
       "      <td>0.000</td>\n",
       "      <td>Accident on I-595 Westbound at Exit 4 / Pine I...</td>\n",
       "      <td>I-595 W</td>\n",
       "      <td>R</td>\n",
       "      <td>...</td>\n",
       "      <td>KHWO</td>\n",
       "      <td>2016-08-31 17:53:00</td>\n",
       "      <td>84.200</td>\n",
       "      <td>84.000</td>\n",
       "      <td>29.920</td>\n",
       "      <td>10.000</td>\n",
       "      <td>SSE</td>\n",
       "      <td>Overcast</td>\n",
       "      <td>Day</td>\n",
       "      <td>True</td>\n",
       "    </tr>\n",
       "  </tbody>\n",
       "</table>\n",
       "<p>5 rows × 25 columns</p>\n",
       "</div>"
      ],
      "text/plain": [
       "    ID  Severity          Start_Time            End_Time  Start_Lat  \\\n",
       "0  A-1         2 2019-05-21 08:29:55 2019-05-21 09:29:40     34.809   \n",
       "1  A-2         2 2019-10-07 17:43:09 2019-10-07 19:42:50     35.090   \n",
       "2  A-3         2 2020-12-13 21:53:00 2020-12-13 22:44:00     37.146   \n",
       "3  A-4         2 2018-04-17 16:51:23 2018-04-17 17:50:46     39.110   \n",
       "4  A-5         3 2016-08-31 17:40:49 2016-08-31 18:10:49     26.103   \n",
       "\n",
       "   Start_Lng  Distance(mi)                                        Description  \\\n",
       "0    -82.269         0.000            Accident on Tanner Rd at Pennbrooke Ln.   \n",
       "1    -80.746         0.000  Accident on Houston Branch Rd at Providence Br...   \n",
       "2   -121.985         1.400  Stationary traffic on CA-17 from Summit Rd (CA...   \n",
       "3   -119.774         0.000         Accident on US-395 Southbound at Topsy Ln.   \n",
       "4    -80.265         0.000  Accident on I-595 Westbound at Exit 4 / Pine I...   \n",
       "\n",
       "                 Street Side  ... Airport_Code    Weather_Timestamp  \\\n",
       "0             Tanner Rd    R  ...         KGMU  2019-05-21 08:53:00   \n",
       "1  Providence Branch Ln    R  ...         KEQY  2019-10-07 17:53:00   \n",
       "2        Santa Cruz Hwy    R  ...         KSJC  2020-12-13 21:53:00   \n",
       "3      US Highway 395 S    R  ...         KCXP  2018-04-17 16:55:00   \n",
       "4               I-595 W    R  ...         KHWO  2016-08-31 17:53:00   \n",
       "\n",
       "  Temperature(F) Humidity(%) Pressure(in) Visibility(mi) Wind_Direction  \\\n",
       "0         76.000      52.000       28.910         10.000              N   \n",
       "1         76.000      62.000       29.300         10.000            VAR   \n",
       "2         51.000      80.000       30.170         10.000              W   \n",
       "3         53.600      16.000       30.160         10.000            SSW   \n",
       "4         84.200      84.000       29.920         10.000            SSE   \n",
       "\n",
       "   Weather_Condition  Sunrise_Sunset    POI  \n",
       "0               Fair             Day  False  \n",
       "1             Cloudy             Day  False  \n",
       "2               Fair           Night  False  \n",
       "3              Clear             Day   True  \n",
       "4           Overcast             Day   True  \n",
       "\n",
       "[5 rows x 25 columns]"
      ]
     },
     "execution_count": 20,
     "metadata": {},
     "output_type": "execute_result"
    }
   ],
   "source": [
    "plt.rcParams[\"figure.figsize\"] = (16,9)\n",
    "pd.set_option('display.float_format', lambda x: '%.3f' % x)\n",
    "df=data_df.copy()\n",
    "df.head()"
   ]
  },
  {
   "cell_type": "markdown",
   "metadata": {},
   "source": [
    "### Câu hỏi 1: Các vụ tai nạn thường xảy ra ở khung giờ nào?"
   ]
  },
  {
   "cell_type": "code",
   "execution_count": 21,
   "metadata": {},
   "outputs": [],
   "source": [
    "Q1=df.loc[:]['Start_Time']\n",
    "Count_by_time=Q1.groupby(Q1.dt.hour).size().to_frame(name='Sum')"
   ]
  },
  {
   "cell_type": "code",
   "execution_count": 22,
   "metadata": {},
   "outputs": [
    {
     "data": {
      "text/html": [
       "<div>\n",
       "<style scoped>\n",
       "    .dataframe tbody tr th:only-of-type {\n",
       "        vertical-align: middle;\n",
       "    }\n",
       "\n",
       "    .dataframe tbody tr th {\n",
       "        vertical-align: top;\n",
       "    }\n",
       "\n",
       "    .dataframe thead th {\n",
       "        text-align: right;\n",
       "    }\n",
       "</style>\n",
       "<table border=\"1\" class=\"dataframe\">\n",
       "  <thead>\n",
       "    <tr style=\"text-align: right;\">\n",
       "      <th></th>\n",
       "      <th>Sum</th>\n",
       "    </tr>\n",
       "    <tr>\n",
       "      <th>Start_Time</th>\n",
       "      <th></th>\n",
       "    </tr>\n",
       "  </thead>\n",
       "  <tbody>\n",
       "    <tr>\n",
       "      <th>0</th>\n",
       "      <td>48618</td>\n",
       "    </tr>\n",
       "    <tr>\n",
       "      <th>1</th>\n",
       "      <td>44966</td>\n",
       "    </tr>\n",
       "    <tr>\n",
       "      <th>2</th>\n",
       "      <td>41169</td>\n",
       "    </tr>\n",
       "    <tr>\n",
       "      <th>3</th>\n",
       "      <td>35102</td>\n",
       "    </tr>\n",
       "    <tr>\n",
       "      <th>4</th>\n",
       "      <td>56467</td>\n",
       "    </tr>\n",
       "    <tr>\n",
       "      <th>5</th>\n",
       "      <td>78199</td>\n",
       "    </tr>\n",
       "    <tr>\n",
       "      <th>6</th>\n",
       "      <td>139530</td>\n",
       "    </tr>\n",
       "    <tr>\n",
       "      <th>7</th>\n",
       "      <td>207528</td>\n",
       "    </tr>\n",
       "    <tr>\n",
       "      <th>8</th>\n",
       "      <td>212506</td>\n",
       "    </tr>\n",
       "    <tr>\n",
       "      <th>9</th>\n",
       "      <td>137601</td>\n",
       "    </tr>\n",
       "    <tr>\n",
       "      <th>10</th>\n",
       "      <td>123752</td>\n",
       "    </tr>\n",
       "    <tr>\n",
       "      <th>11</th>\n",
       "      <td>124203</td>\n",
       "    </tr>\n",
       "    <tr>\n",
       "      <th>12</th>\n",
       "      <td>126145</td>\n",
       "    </tr>\n",
       "    <tr>\n",
       "      <th>13</th>\n",
       "      <td>138768</td>\n",
       "    </tr>\n",
       "    <tr>\n",
       "      <th>14</th>\n",
       "      <td>147693</td>\n",
       "    </tr>\n",
       "    <tr>\n",
       "      <th>15</th>\n",
       "      <td>169717</td>\n",
       "    </tr>\n",
       "    <tr>\n",
       "      <th>16</th>\n",
       "      <td>194280</td>\n",
       "    </tr>\n",
       "    <tr>\n",
       "      <th>17</th>\n",
       "      <td>198979</td>\n",
       "    </tr>\n",
       "    <tr>\n",
       "      <th>18</th>\n",
       "      <td>158982</td>\n",
       "    </tr>\n",
       "    <tr>\n",
       "      <th>19</th>\n",
       "      <td>111616</td>\n",
       "    </tr>\n",
       "    <tr>\n",
       "      <th>20</th>\n",
       "      <td>85330</td>\n",
       "    </tr>\n",
       "    <tr>\n",
       "      <th>21</th>\n",
       "      <td>70005</td>\n",
       "    </tr>\n",
       "    <tr>\n",
       "      <th>22</th>\n",
       "      <td>64698</td>\n",
       "    </tr>\n",
       "    <tr>\n",
       "      <th>23</th>\n",
       "      <td>52459</td>\n",
       "    </tr>\n",
       "  </tbody>\n",
       "</table>\n",
       "</div>"
      ],
      "text/plain": [
       "               Sum\n",
       "Start_Time        \n",
       "0            48618\n",
       "1            44966\n",
       "2            41169\n",
       "3            35102\n",
       "4            56467\n",
       "5            78199\n",
       "6           139530\n",
       "7           207528\n",
       "8           212506\n",
       "9           137601\n",
       "10          123752\n",
       "11          124203\n",
       "12          126145\n",
       "13          138768\n",
       "14          147693\n",
       "15          169717\n",
       "16          194280\n",
       "17          198979\n",
       "18          158982\n",
       "19          111616\n",
       "20           85330\n",
       "21           70005\n",
       "22           64698\n",
       "23           52459"
      ]
     },
     "execution_count": 22,
     "metadata": {},
     "output_type": "execute_result"
    }
   ],
   "source": [
    "Count_by_time"
   ]
  },
  {
   "cell_type": "code",
   "execution_count": 23,
   "metadata": {},
   "outputs": [
    {
     "data": {
      "text/plain": [
       "Day      1864804\n",
       "Night     903509\n",
       "Name: Sunrise_Sunset, dtype: int64"
      ]
     },
     "execution_count": 23,
     "metadata": {},
     "output_type": "execute_result"
    }
   ],
   "source": [
    "df['Sunrise_Sunset'].value_counts()"
   ]
  },
  {
   "cell_type": "code",
   "execution_count": 24,
   "metadata": {},
   "outputs": [
    {
     "data": {
      "image/png": "[encoded data removed]",
      "text/plain": [
       "<Figure size 1152x648 with 1 Axes>"
      ]
     },
     "metadata": {
      "needs_background": "light"
     },
     "output_type": "display_data"
    }
   ],
   "source": [
    "Count_by_time.plot(kind='bar')\n",
    "plt.xlabel('Hour of the day',fontsize =20)\n",
    "plt.title('Accident count by hours',fontsize =25);"
   ]
  },
  {
   "cell_type": "markdown",
   "metadata": {},
   "source": [
    "**Nhận xét:**\n",
    "- Nhìn chung các vụ tai nạn thường xảy ra vào ban ngày. Ban đêm, số lượng phương tiện di chuyển ít hơn nên số vụ tai nạn có vẻ cũng thấp hơn\n",
    "- Các vụ tai nạn nhiều nhất ở khung giờ 7-8h, 16-17h . Có vẻ đây là thời gian đi làm/ tan làm nên số lượng phương tiện di chuyển rất nhiều dẫn đến nhiều vụ tai nạn xảy ra"
   ]
  },
  {
   "cell_type": "markdown",
   "metadata": {},
   "source": [
    "### Câu hỏi 2: Tai nạn xảy ra ở từng múi giờ như thế nào trong năm gần nhất?"
   ]
  },
  {
   "cell_type": "code",
   "execution_count": 25,
   "metadata": {},
   "outputs": [],
   "source": [
    "Q2=df[df['Start_Time'].dt.year==2020]"
   ]
  },
  {
   "cell_type": "code",
   "execution_count": 26,
   "metadata": {},
   "outputs": [],
   "source": [
    "zone=Q2.groupby('Timezone').size().to_frame()"
   ]
  },
  {
   "cell_type": "code",
   "execution_count": 27,
   "metadata": {},
   "outputs": [
    {
     "data": {
      "text/html": [
       "<div>\n",
       "<style scoped>\n",
       "    .dataframe tbody tr th:only-of-type {\n",
       "        vertical-align: middle;\n",
       "    }\n",
       "\n",
       "    .dataframe tbody tr th {\n",
       "        vertical-align: top;\n",
       "    }\n",
       "\n",
       "    .dataframe thead th {\n",
       "        text-align: right;\n",
       "    }\n",
       "</style>\n",
       "<table border=\"1\" class=\"dataframe\">\n",
       "  <thead>\n",
       "    <tr style=\"text-align: right;\">\n",
       "      <th></th>\n",
       "      <th>0</th>\n",
       "    </tr>\n",
       "    <tr>\n",
       "      <th>Timezone</th>\n",
       "      <th></th>\n",
       "    </tr>\n",
       "  </thead>\n",
       "  <tbody>\n",
       "    <tr>\n",
       "      <th>US/Central</th>\n",
       "      <td>185481</td>\n",
       "    </tr>\n",
       "    <tr>\n",
       "      <th>US/Eastern</th>\n",
       "      <td>410456</td>\n",
       "    </tr>\n",
       "    <tr>\n",
       "      <th>US/Mountain</th>\n",
       "      <td>53775</td>\n",
       "    </tr>\n",
       "    <tr>\n",
       "      <th>US/Pacific</th>\n",
       "      <td>306965</td>\n",
       "    </tr>\n",
       "  </tbody>\n",
       "</table>\n",
       "</div>"
      ],
      "text/plain": [
       "                  0\n",
       "Timezone           \n",
       "US/Central   185481\n",
       "US/Eastern   410456\n",
       "US/Mountain   53775\n",
       "US/Pacific   306965"
      ]
     },
     "execution_count": 27,
     "metadata": {},
     "output_type": "execute_result"
    }
   ],
   "source": [
    "zone"
   ]
  },
  {
   "cell_type": "code",
   "execution_count": 28,
   "metadata": {},
   "outputs": [
    {
     "data": {
      "text/plain": [
       "array([<AxesSubplot:>], dtype=object)"
      ]
     },
     "execution_count": 28,
     "metadata": {},
     "output_type": "execute_result"
    },
    {
     "data": {
      "image/png": "[encoded data removed]",
      "text/plain": [
       "<Figure size 1152x648 with 1 Axes>"
      ]
     },
     "metadata": {},
     "output_type": "display_data"
    }
   ],
   "source": [
    "zone.plot(kind='pie', title =\"Accident by Timezone\", autopct='%.1f%%',subplots=True,ylabel='')"
   ]
  },
  {
   "cell_type": "code",
   "execution_count": 29,
   "metadata": {},
   "outputs": [
    {
     "data": {
      "text/plain": [
       "<AxesSubplot:xlabel='Start_Lng', ylabel='Start_Lat'>"
      ]
     },
     "execution_count": 29,
     "metadata": {},
     "output_type": "execute_result"
    },
    {
     "data": {
      "image/png": "[encoded data removed]",
      "text/plain": [
       "<Figure size 864x648 with 1 Axes>"
      ]
     },
     "metadata": {
      "needs_background": "light"
     },
     "output_type": "display_data"
    }
   ],
   "source": [
    "fig, ax = plt.subplots(figsize = (12,9))\n",
    "Q2.plot(kind=\"scatter\",x='Start_Lng',y='Start_Lat',ax=ax)"
   ]
  },
  {
   "cell_type": "markdown",
   "metadata": {},
   "source": [
    "**Nhận xét:**\n",
    "- Các vụ tai nạn tập trung chủ yếu ở múi giờ miền Đông và múi giờ Thái Bình Dương\n",
    "    - Đây là nơi đông dân, nên lượng phương tiện di chuyển nhiều. Tai nạn xảy ra nhiều hơn\n",
    "    - 2 khu vực này là 2 khu vực tập trung công nghiệp lớn nhất nước Mỹ, có nhiều tuyến đường chính.\n",
    "- Múi giờ miền Trung và múi giờ miền núi của nước Mỹ ít xảy ra các vụ tai nạn hơn.\n",
    "    - Do dân cư ở đây ít, phương tiện di chuyển ít nên ít xảy ra tai nạn.\n",
    "    - Nhìn trên biểu đồ thì có thể thấy các vụ tai nạn ở đây thường xảy ra trên 1 số tuyến đường cố định"
   ]
  },
  {
   "cell_type": "markdown",
   "metadata": {},
   "source": [
    "### Câu hỏi 3: Tổng số vụ tai nạn, mức độ nghiêm trọng của các vụ tai nạn qua từng năm là như thế nào?"
   ]
  },
  {
   "cell_type": "code",
   "execution_count": 30,
   "metadata": {},
   "outputs": [],
   "source": [
    "Q3=df.loc[:][['Start_Time','Severity']]\n",
    "Q3['Start_Time']=Q3['Start_Time'].dt.year\n",
    "Q3_1=Q3.groupby(['Start_Time']).size()\n",
    "Q3_2=Q3.groupby(['Severity','Start_Time']).size().unstack(level=0)"
   ]
  },
  {
   "cell_type": "code",
   "execution_count": 31,
   "metadata": {},
   "outputs": [
    {
     "data": {
      "text/plain": [
       "Start_Time\n",
       "2016    262172\n",
       "2017    433629\n",
       "2018    518604\n",
       "2019    597231\n",
       "2020    956677\n",
       "dtype: int64"
      ]
     },
     "execution_count": 31,
     "metadata": {},
     "output_type": "execute_result"
    }
   ],
   "source": [
    "Q3_1"
   ]
  },
  {
   "cell_type": "code",
   "execution_count": 32,
   "metadata": {},
   "outputs": [
    {
     "data": {
      "text/plain": [
       "<AxesSubplot:title={'center':'Accident by Year'}, xlabel='Year'>"
      ]
     },
     "execution_count": 32,
     "metadata": {},
     "output_type": "execute_result"
    },
    {
     "data": {
      "image/png": "[encoded data removed]",
      "text/plain": [
       "<Figure size 1152x648 with 1 Axes>"
      ]
     },
     "metadata": {
      "needs_background": "light"
     },
     "output_type": "display_data"
    }
   ],
   "source": [
    "Q3_1.plot(kind='bar',title='Accident by Year', xlabel='Year')"
   ]
  },
  {
   "cell_type": "code",
   "execution_count": 33,
   "metadata": {},
   "outputs": [
    {
     "data": {
      "text/plain": [
       "<AxesSubplot:xlabel='Year'>"
      ]
     },
     "execution_count": 33,
     "metadata": {},
     "output_type": "execute_result"
    },
    {
     "data": {
      "image/png": "[encoded data removed]",
      "text/plain": [
       "<Figure size 1152x648 with 1 Axes>"
      ]
     },
     "metadata": {
      "needs_background": "light"
     },
     "output_type": "display_data"
    }
   ],
   "source": [
    "Q3_2.plot(kind='line',marker='o',xlabel='Year')"
   ]
  },
  {
   "cell_type": "markdown",
   "metadata": {},
   "source": [
    "**Nhận xét:**\n",
    "- Các vụ tai nạn tăng qua các năm. Có vẻ như kinh tế tốt hơn. Người dân có thêm phương tiện di chuyển, nên tai nạn xảy ra nhiều hơn\n",
    "- Một phần nhỏ do các vụ tai nạn ở các năm trước do dữ liệu không đủ đã bị em xóa đi lúc tiền xử lý nên số vụ tai nạn cũng thấp đi 1 phần\n",
    "- Mức độ nghiêm trọng của các vụ tai nạn không thay đổi nhiều trừ mức độ loại 2, tăng nhanh qua các năm , đặc biệt là từ 2019-2020. Tăng gần gấp đôi. Điều này cũng làm số vụ tai nạn trong năm 2020 tăng mạnh"
   ]
  },
  {
   "cell_type": "markdown",
   "metadata": {},
   "source": [
    "### Câu hỏi 4: Các vụ tai nạn nghiêm trọng phụ thuộc vào yếu tố gì và như thế nào?"
   ]
  },
  {
   "cell_type": "markdown",
   "metadata": {},
   "source": [
    "Để tìm ra câu trả lời cho câu hỏi này, em thực hiện các bước:\n",
    "- Tìm ra các vụ tai nạn có mức độ nghiêm trọng.\n",
    "- Xét yếu tố ảnh hưởng đến các vụ tai nạn nghiêm trọng vào những khung giờ đen này:\n",
    "    - Thời gian.\n",
    "    - Vị trí.\n",
    "    - Nhiệt độ.\n",
    "    - Độ ẩm.\n",
    "    - Áp suất không khí.\n",
    "    - Tầm nhìn.\n",
    "    - Hướng gió.\n",
    "    - Lượng mưa.\n",
    "    - Tình trạng thời tiết."
   ]
  },
  {
   "cell_type": "markdown",
   "metadata": {},
   "source": [
    "### Q_4.1 Tìm ra các vụ tai nạn có mức độ nghiêm trọng\n",
    "\n",
    "Ý tưởng: Dựa vào thuột tính <b> Severity </b>, vụ tai nạn nào có Severity càng cao thì càng nặng. Ở đây, em sẽ xét các vụ tai nạn nghiêm trọng là các vụ tai nạn có <b> Severity </b> bằng 3 hoặc 4."
   ]
  },
  {
   "cell_type": "code",
   "execution_count": 34,
   "metadata": {},
   "outputs": [],
   "source": [
    "#Lấy ra các vụ tai nạn nghiêm trọng\n",
    "data_serious = data_df[data_df[\"Severity\"] > 2]"
   ]
  },
  {
   "cell_type": "markdown",
   "metadata": {},
   "source": [
    "### Q_4.2 Xét các yếu tố ảnh hưởng:"
   ]
  },
  {
   "cell_type": "markdown",
   "metadata": {},
   "source": [
    "#### Q_4.2.1 Các vụ tai nạn nghiêm trọng thường xảy ra khung giờ nào?"
   ]
  },
  {
   "cell_type": "markdown",
   "metadata": {},
   "source": [
    "Ta tính xem số lượng vụ tai nạn nghiêm trọng trong từng khung giờ như thế nào:"
   ]
  },
  {
   "cell_type": "code",
   "execution_count": 35,
   "metadata": {},
   "outputs": [
    {
     "data": {
      "image/png": "[encoded data removed]",
      "text/plain": [
       "<Figure size 1296x432 with 1 Axes>"
      ]
     },
     "metadata": {
      "needs_background": "light"
     },
     "output_type": "display_data"
    }
   ],
   "source": [
    "hour_serious = data_serious[\"Start_Time\"].dt.hour\n",
    "hour_serious = hour_serious.value_counts()\n",
    "hour_serious.sort_index().plot.bar(xlabel=r\"Time (hour)\",\n",
    "                                   ylabel=r\"Count\",\n",
    "                                   figsize=(18,6));"
   ]
  },
  {
   "cell_type": "code",
   "execution_count": 36,
   "metadata": {},
   "outputs": [
    {
     "data": {
      "text/plain": [
       "Int64Index([7, 8, 15, 16, 17, 18], dtype='int64')"
      ]
     },
     "execution_count": 36,
     "metadata": {},
     "output_type": "execute_result"
    }
   ],
   "source": [
    "hour_serious = hour_serious.head(6)\n",
    "hour_serious = hour_serious.sort_index()\n",
    "hour_serious = hour_serious.index\n",
    "hour_serious"
   ]
  },
  {
   "cell_type": "markdown",
   "metadata": {},
   "source": [
    "=> Khung giờ xảy ra tai nạn nghiêm trọng nhiều nhất là 7h -> 9h và 15h -> 19h (giờ \"<b>đen</b>\")"
   ]
  },
  {
   "cell_type": "markdown",
   "metadata": {},
   "source": [
    "#### Q_4.2.2 Các vụ tai nạn nghiêm trọng phân bổ tại các bang như thế nào, có gì khác thường không?"
   ]
  },
  {
   "cell_type": "code",
   "execution_count": 37,
   "metadata": {},
   "outputs": [
    {
     "data": {
      "image/png": "[encoded data removed]",
      "text/plain": [
       "<Figure size 1296x396 with 1 Axes>"
      ]
     },
     "metadata": {
      "needs_background": "light"
     },
     "output_type": "display_data"
    }
   ],
   "source": [
    "data_serious_state = data_serious.groupby(\"State\").size().reset_index(name='Count')\n",
    "data_serious_state.plot.bar(x='State', y='Count', figsize=(18,5.5));"
   ]
  },
  {
   "cell_type": "markdown",
   "metadata": {},
   "source": [
    "Sự khác nhau về số lượng vụ tai nạn nghiêm trọng tại các bang này là khá lớn.\n",
    "\n",
    "Ta sẽ khám phá 5 bang có số lượng vụ tai nạn nghiêm trọng trong khung giờ đen để xem có phát hiện gì không:"
   ]
  },
  {
   "cell_type": "code",
   "execution_count": 38,
   "metadata": {},
   "outputs": [
    {
     "data": {
      "text/html": [
       "<div>\n",
       "<style scoped>\n",
       "    .dataframe tbody tr th:only-of-type {\n",
       "        vertical-align: middle;\n",
       "    }\n",
       "\n",
       "    .dataframe tbody tr th {\n",
       "        vertical-align: top;\n",
       "    }\n",
       "\n",
       "    .dataframe thead th {\n",
       "        text-align: right;\n",
       "    }\n",
       "</style>\n",
       "<table border=\"1\" class=\"dataframe\">\n",
       "  <thead>\n",
       "    <tr style=\"text-align: right;\">\n",
       "      <th></th>\n",
       "      <th>State</th>\n",
       "      <th>Count</th>\n",
       "    </tr>\n",
       "  </thead>\n",
       "  <tbody>\n",
       "    <tr>\n",
       "      <th>3</th>\n",
       "      <td>CA</td>\n",
       "      <td>140306</td>\n",
       "    </tr>\n",
       "    <tr>\n",
       "      <th>41</th>\n",
       "      <td>TX</td>\n",
       "      <td>61085</td>\n",
       "    </tr>\n",
       "    <tr>\n",
       "      <th>8</th>\n",
       "      <td>FL</td>\n",
       "      <td>57724</td>\n",
       "    </tr>\n",
       "    <tr>\n",
       "      <th>32</th>\n",
       "      <td>NY</td>\n",
       "      <td>40904</td>\n",
       "    </tr>\n",
       "    <tr>\n",
       "      <th>9</th>\n",
       "      <td>GA</td>\n",
       "      <td>35677</td>\n",
       "    </tr>\n",
       "  </tbody>\n",
       "</table>\n",
       "</div>"
      ],
      "text/plain": [
       "   State   Count\n",
       "3     CA  140306\n",
       "41    TX   61085\n",
       "8     FL   57724\n",
       "32    NY   40904\n",
       "9     GA   35677"
      ]
     },
     "execution_count": 38,
     "metadata": {},
     "output_type": "execute_result"
    }
   ],
   "source": [
    "data_serious_state.nlargest(5, 'Count')"
   ]
  },
  {
   "cell_type": "markdown",
   "metadata": {},
   "source": [
    "5 bang có số vụ tai nạn nghiêm trọng vào giờ đen là CA - California, TX - Texas, FL - Florida, GA - Georgia, NY - New York.<br />\n",
    "\n",
    "Dưới đây là [thống kê 10 bang có diện tích lớn nhất nước Mỹ](https://www.ipl.org/div/stateknow/popchart.html#statesbyland):\n",
    "<img src=\"https://i.ibb.co/C2QXyyM/rank-state-by-area.png\">\n",
    "\n",
    "Hmmm, có lẽ diện tích các bang này không nói lên điều gì! <br />\n",
    "Tiếp theo là [thống kê 10 bang có dân số lớn nhất nước Mỹ](https://www.ipl.org/div/stateknow/popchart.html#statesbypop): <br />\n",
    "<img src=\"https://i.ibb.co/87zsrmM/Populations.png\">\n",
    "\n",
    "<br />\n",
    "Cả 5 bang trên đều là top những bang có dân số đông nhất nước Mỹ, vậy dân số đông là yếu tố ảnh hưởng đến việc có nhiều vụ tai nạn nghiêm trọng. Điều này cũng khá là dễ hiểu."
   ]
  },
  {
   "cell_type": "markdown",
   "metadata": {},
   "source": [
    "#### Q_4.2.3 Thường xảy ra lúc nhiệt độ như thế nào? "
   ]
  },
  {
   "cell_type": "code",
   "execution_count": 39,
   "metadata": {
    "scrolled": true
   },
   "outputs": [
    {
     "data": {
      "image/png": "[encoded data removed]",
      "text/plain": [
       "<Figure size 1440x468 with 1 Axes>"
      ]
     },
     "metadata": {
      "needs_background": "light"
     },
     "output_type": "display_data"
    }
   ],
   "source": [
    "temperature_serious = data_serious[\"Temperature(F)\"]\n",
    "plt.rcParams[\"figure.figsize\"] = (20,6.5)\n",
    "plt.hist(temperature_serious, bins = 50, ec='black', alpha = 0.7)\n",
    "plt.ylabel('Count')\n",
    "plt.xlabel('Temperature (F)');"
   ]
  },
  {
   "cell_type": "code",
   "execution_count": 40,
   "metadata": {},
   "outputs": [
    {
     "data": {
      "text/plain": [
       "Float64Index([59.0, 63.0, 64.0, 66.0, 68.0, 70.0, 72.0, 73.0, 75.0, 77.0], dtype='float64')"
      ]
     },
     "execution_count": 40,
     "metadata": {},
     "output_type": "execute_result"
    }
   ],
   "source": [
    "temperature_serious = temperature_serious.value_counts().head(10)\n",
    "temperature_serious = temperature_serious.sort_index()\n",
    "temperature_serious = temperature_serious.index\n",
    "temperature_serious"
   ]
  },
  {
   "cell_type": "markdown",
   "metadata": {},
   "source": [
    "Như vậy, đa số các vụ tai nạn xảy ra trong điều kiện nhiệt độ từ 59F -> 79F.<br />\n",
    "Theo công thức <b>độ C = (F - 32)/1.8</b> thì là từ 15 độ C đến khoảng 25 độ C"
   ]
  },
  {
   "cell_type": "markdown",
   "metadata": {},
   "source": [
    "#### Q_4.2.4 Thường xảy ra lúc độ ẩm như thế nào? "
   ]
  },
  {
   "cell_type": "code",
   "execution_count": 41,
   "metadata": {},
   "outputs": [
    {
     "data": {
      "image/png": "[encoded data removed]",
      "text/plain": [
       "<Figure size 1440x468 with 1 Axes>"
      ]
     },
     "metadata": {
      "needs_background": "light"
     },
     "output_type": "display_data"
    }
   ],
   "source": [
    "humidity_serious = data_serious[\"Humidity(%)\"]\n",
    "plt.hist(humidity_serious, bins = np.linspace(0, 100, 11), ec='black', alpha = 0.7)\n",
    "plt.ylabel('Count')\n",
    "plt.xlabel('Humidity (%)')\n",
    "plt.xticks(range(0, 101, 10));"
   ]
  },
  {
   "cell_type": "code",
   "execution_count": 42,
   "metadata": {},
   "outputs": [
    {
     "data": {
      "text/plain": [
       "Float64Index([78.0, 81.0, 84.0, 87.0, 89.0, 90.0, 93.0, 94.0, 96.0, 100.0], dtype='float64')"
      ]
     },
     "execution_count": 42,
     "metadata": {},
     "output_type": "execute_result"
    }
   ],
   "source": [
    "humidity_serious = humidity_serious.value_counts().head(10)\n",
    "humidity_serious = humidity_serious.sort_index()\n",
    "humidity_serious = humidity_serious.index\n",
    "humidity_serious"
   ]
  },
  {
   "cell_type": "markdown",
   "metadata": {},
   "source": [
    "Như vậy, đa số các vụ tai nạn xảy ra trong điều kiện độ ẩm từ 78% -> 100%.<br />\n",
    "Độ ẩm được cho là tương đối thích hợp với cơ thể con người nằm trong khoảng tương đối rộng từ 35 - 70%.<br />\n",
    "<br />\n",
    "Độ ẩm cao là nguyên nhân đặc biệt ảnh hương  trực tiếp đến cuộc sống của chúng ta. <br />\n",
    "\n",
    "Khi độ ẩm tăng lên làm khả năng thoát mồ hôi cũng kém đi rất nhiều, cơ thể trở nên nặng nề, mệt mỏi, thiếu sức sống, nếu diễn ra trong thời gian dài sẽ dẫn đến nhiễm lạnh, cảm cúm, làm giảm khả năng làm việc và giao tiếp xã hội…"
   ]
  },
  {
   "cell_type": "markdown",
   "metadata": {},
   "source": [
    "#### Q_4.2.5 Thường xảy ra khi áp suất không khí như thế nào? "
   ]
  },
  {
   "cell_type": "code",
   "execution_count": 43,
   "metadata": {
    "scrolled": true
   },
   "outputs": [
    {
     "data": {
      "text/plain": [
       "Float64Index([29.91, 29.94, 29.96, 29.99, 30.0, 30.01, 30.02, 30.03, 30.04,\n",
       "              30.06],\n",
       "             dtype='float64')"
      ]
     },
     "execution_count": 43,
     "metadata": {},
     "output_type": "execute_result"
    }
   ],
   "source": [
    "pressure_serious = data_serious[\"Pressure(in)\"].value_counts()\n",
    "pressure_serious = pressure_serious.head(10)\n",
    "pressure_serious = pressure_serious.sort_index()\n",
    "pressure_serious = pressure_serious.index\n",
    "pressure_serious"
   ]
  },
  {
   "cell_type": "markdown",
   "metadata": {},
   "source": [
    "Như vậy, đa số các vụ tai nạn xảy ra trong điều kiện áp suất không khí từ 29.91 in -> 30.06 in.<br />\n",
    "Thường thì sự thay đổi đột ngột của áp suất không khí sẽ gây ảnh hưởng đến sức khoẻ, vì vậy ở đây dữ liệu chưa đủ để nói lên điều gì đặc biệt."
   ]
  },
  {
   "cell_type": "markdown",
   "metadata": {},
   "source": [
    "#### Q_4.2.6 Thường xảy ra ở tầm nhìn như thế nào? "
   ]
  },
  {
   "cell_type": "code",
   "execution_count": 44,
   "metadata": {},
   "outputs": [
    {
     "data": {
      "image/png": "[encoded data removed]",
      "text/plain": [
       "<Figure size 1296x432 with 1 Axes>"
      ]
     },
     "metadata": {
      "needs_background": "light"
     },
     "output_type": "display_data"
    }
   ],
   "source": [
    "visibility_serious = data_serious[\"Visibility(mi)\"].value_counts()\n",
    "visibility_serious.sort_index().plot.line(xlabel=r\"Visibility(mi)\",\n",
    "                                   ylabel=r\"Count\",\n",
    "                                   figsize=(18,6));"
   ]
  },
  {
   "cell_type": "code",
   "execution_count": 45,
   "metadata": {},
   "outputs": [
    {
     "data": {
      "text/plain": [
       "10.000    569242\n",
       "7.000      22490\n",
       "9.000      18036\n",
       "5.000      14913\n",
       "8.000      14647\n",
       "6.000      12741\n",
       "3.000      12582\n",
       "4.000      12405\n",
       "2.000      10368\n",
       "1.000       6905\n",
       "2.500       4224\n",
       "0.500       3192\n",
       "1.500       2567\n",
       "0.200       2428\n",
       "0.800       1984\n",
       "1.800       1875\n",
       "1.200       1469\n",
       "Name: Visibility(mi), dtype: int64"
      ]
     },
     "execution_count": 45,
     "metadata": {},
     "output_type": "execute_result"
    }
   ],
   "source": [
    "visibility_serious = visibility_serious.head(17)\n",
    "visibility_serious"
   ]
  },
  {
   "cell_type": "markdown",
   "metadata": {},
   "source": [
    "Ở tầm nhìn 10 mét, số lượng vụ tai nạn nghiêm trọng là quá nhiều.\n",
    "Các vụ tai nạn nghiêm trọng khác, đều có tầm nhìn bé hơn 10 mét.\n",
    "<br />\n",
    "Một tầm nhìn bé tức là tầm nhìn có trở ngại, ví dụ sương mù, mưa, lốc cát, ... gây khó khăn cho người tham gia giao thông. "
   ]
  },
  {
   "cell_type": "markdown",
   "metadata": {},
   "source": [
    "#### Q_4.2.7 Thường xảy ra lúc hướng gió như thế nào?"
   ]
  },
  {
   "cell_type": "code",
   "execution_count": 46,
   "metadata": {
    "scrolled": true
   },
   "outputs": [
    {
     "data": {
      "image/png": "[encoded data removed]",
      "text/plain": [
       "<Figure size 1440x504 with 1 Axes>"
      ]
     },
     "metadata": {
      "needs_background": "light"
     },
     "output_type": "display_data"
    }
   ],
   "source": [
    "wind_direction_serious = data_serious[\"Wind_Direction\"].value_counts()\n",
    "wind_direction_serious.sort_index().plot.barh(xlabel=r\"Wind direction\",\n",
    "                                   ylabel=r\"Count\",\n",
    "                                   figsize=(20,7));"
   ]
  },
  {
   "cell_type": "markdown",
   "metadata": {},
   "source": [
    "Có điều bất thường ở đây là 1 hướng gió có thể ghi theo nhiều cách khác nhau, ví dụ West-W, North-N, Calm-CALM,... Cho nên ta sẽ gom các giá trị có cùng kiểu gió lại."
   ]
  },
  {
   "cell_type": "code",
   "execution_count": 47,
   "metadata": {},
   "outputs": [
    {
     "data": {
      "image/png": "[encoded data removed]",
      "text/plain": [
       "<Figure size 1440x504 with 1 Axes>"
      ]
     },
     "metadata": {
      "needs_background": "light"
     },
     "output_type": "display_data"
    }
   ],
   "source": [
    "# Chuyển tên hướng gió sang in hoa hết:\n",
    "wind_direction_serious.index =  wind_direction_serious.index.str.upper()\n",
    "\n",
    "# Thay thế các tên hướng gió có cùng ý nghĩa, gom nhóm và tính tổng lại:\n",
    "new_index = wind_direction_serious.index.to_series()\n",
    "new_index = new_index.replace([\"E\", \"N\", \"S\", \"W\", \"VAR\"],\n",
    "                              [\"EAST\", \"NORTH\", \"SOUTH\", \"WEST\", \"VARIABLE\"])\n",
    "\n",
    "wind_direction_serious.index = new_index\n",
    "wind_direction_serious = wind_direction_serious.groupby(level=0).sum()\n",
    "\n",
    "# Nhìn lại biểu đồ hướng gió mới:\n",
    "wind_direction_serious.sort_index().plot.barh(xlabel=r\"Wind direction\",\n",
    "                                   ylabel=r\"Count\",\n",
    "                                   figsize=(20,7));"
   ]
  },
  {
   "cell_type": "code",
   "execution_count": 48,
   "metadata": {},
   "outputs": [
    {
     "data": {
      "text/plain": [
       "CALM     117121\n",
       "EAST      37535\n",
       "ENE       24730\n",
       "ESE       25409\n",
       "NE        24637\n",
       "NNE       24154\n",
       "NNW       31040\n",
       "NORTH     43096\n",
       "NW        35398\n",
       "SE        28707\n",
       "Name: Wind_Direction, dtype: int64"
      ]
     },
     "execution_count": 48,
     "metadata": {},
     "output_type": "execute_result"
    }
   ],
   "source": [
    "wind_direction_serious = wind_direction_serious.head(10)\n",
    "wind_direction_serious"
   ]
  },
  {
   "cell_type": "markdown",
   "metadata": {},
   "source": [
    "Hướng gió CALM chiếm tỉ lệ các vụ tai nạn nghiêm trọng lớn nhất<br /> <br />\n",
    "Hướng gió Calm, tức là hướng từ dưới thẳng lên, ở đây có thể hiểu là lốc xoáy chẳng hạn. Sự nguy hiểm của gió lốc thì không cần bàn cãi, và đây đúng là lí do dễ gây tai nạn và nghiêm trọng hơn cho người tham gia giao thông."
   ]
  },
  {
   "cell_type": "markdown",
   "metadata": {},
   "source": [
    "#### Q_4.2.8 Thường xảy ra vào tình trạng thời tiết như thế nào?"
   ]
  },
  {
   "cell_type": "code",
   "execution_count": 49,
   "metadata": {},
   "outputs": [
    {
     "data": {
      "image/png": "[encoded data removed]",
      "text/plain": [
       "<Figure size 1440x504 with 1 Axes>"
      ]
     },
     "metadata": {
      "needs_background": "light"
     },
     "output_type": "display_data"
    }
   ],
   "source": [
    "weather_condition_serious = data_serious[\"Weather_Condition\"].value_counts()\n",
    "weather_condition_serious.head(25).sort_index().plot.barh(xlabel=r\"Weather condition\",\n",
    "                                   ylabel=r\"Count\",\n",
    "                                   figsize=(20,7));"
   ]
  },
  {
   "cell_type": "markdown",
   "metadata": {},
   "source": [
    "Nhìn vào kết quả trên, bất kì thời tiết nào cũng có thể xảy ra tai nạn nghiêm trọng, kể cả lúc hoàn toàn bình thường.<br />\n",
    "Thời tiết bất lợi luôn là yếu tố dễ gây tai nạn, nhưng đôi khi thời tiết bình thường lại khiến con người chủ quan nên cũng sẽ dẫn đến tai nạn giao thông. Dữ liệu này có vẻ cần kết hợp thêm yếu tố khác để đưa ra nhận xét đúng hơn."
   ]
  },
  {
   "cell_type": "markdown",
   "metadata": {},
   "source": [
    "### Q_4.3 Bàn luận"
   ]
  },
  {
   "cell_type": "markdown",
   "metadata": {},
   "source": [
    "Ta đã phân tích các yếu tố ảnh hưởng đến các vụ tai nạn nghiêm trọng và rất nghiêm trọng. Giờ ta sẽ đưa ra một câu hỏi khác có ý nghĩa hơn từ những thông tin có được.\n",
    "\n",
    "<u><b>Câu hỏi đặt ra</b></u>: Tôi là một người tham gia giao thông, tôi không muốn bị tai nạn với nhiều thương tích và không muốn vướng vào các tai nạn nghiêm trọng do người khác gây ra. Hãy đưa ra lời khuyên cho tôi, với các dữ liệu lúc tham gia giao thông tôi sẽ cung cấp."
   ]
  },
  {
   "cell_type": "markdown",
   "metadata": {},
   "source": [
    "<b>Ý tưởng</b>: Dựa vào các yếu tố đã phân tích, tạo 1 hàm, xét các điều kiện người dùng cung cấp và đưa ra kết quả có khả năng xảy ra tai nạn nghiêm trọng không.\n",
    "\n",
    "Chúng ta đã phân tích được:\n",
    "- Khung giờ xảy ra tai nạn nghiêm trọng nhiều nhất là 7h -> 9h và 15h -> 19h\n",
    "- Đa số các vụ tai nạn xảy ra trong điều kiện nhiệt độ từ 59F -> 77F\n",
    "- Đa số các vụ tai nạn xảy ra trong điều kiện độ ẩm từ 78% -> 100%.\n",
    "- Tầm nhìn: <= 10 mét\n",
    "- Hướng gió: CALM"
   ]
  },
  {
   "cell_type": "code",
   "execution_count": 50,
   "metadata": {},
   "outputs": [],
   "source": [
    "def percent_serious(start_time_hour = None, temperature = None, humidity = None, visibility = None, wind_direction = None):\n",
    "    input_quantity = 0\n",
    "    serious_quantity = 0\n",
    "    # init:\n",
    "    if start_time_hour is not None:\n",
    "        input_quantity += 1\n",
    "        if(start_time_hour in [7,8,15,16,17,18]):\n",
    "            serious_quantity += 1\n",
    "    if temperature is not None:\n",
    "        input_quantity += 1\n",
    "        if((59 <= temperature) & (temperature <= 77)):\n",
    "            serious_quantity += 1\n",
    "    if humidity is not None:\n",
    "        input_quantity += 1\n",
    "        if((78 <= humidity) & (humidity <= 100)):\n",
    "            serious_quantity += 1\n",
    "    if visibility is not None:\n",
    "        input_quantity += 1\n",
    "        if(humidity <= 10):\n",
    "            serious_quantity += 1\n",
    "    if wind_direction is not None:\n",
    "        input_quantity += 1\n",
    "        if(wind_direction.upper() ==\"CALM\"):\n",
    "            serious_quantity += 1\n",
    "    \n",
    "    return ((serious_quantity / input_quantity) * 100)/2 + 50"
   ]
  },
  {
   "cell_type": "markdown",
   "metadata": {},
   "source": [
    "Test:"
   ]
  },
  {
   "cell_type": "code",
   "execution_count": 51,
   "metadata": {},
   "outputs": [
    {
     "data": {
      "text/plain": [
       "70.0"
      ]
     },
     "execution_count": 51,
     "metadata": {},
     "output_type": "execute_result"
    }
   ],
   "source": [
    "sample = data_df.iloc[0]\n",
    "start_time = sample[\"Start_Time\"].hour\n",
    "temperature = sample[\"Temperature(F)\"]\n",
    "humidity = sample[\"Humidity(%)\"]  \n",
    "visibility = sample[\"Visibility(mi)\"]\n",
    "wind_direction = sample[\"Wind_Direction\"]\n",
    "\n",
    "\n",
    "percent_serious(start_time, temperature, humidity, visibility, wind_direction)"
   ]
  },
  {
   "cell_type": "markdown",
   "metadata": {},
   "source": [
    "# Nhìn lại quá trình làm\n",
    "- **Thuận lợi:**\n",
    "    - Đề tự do, nên việc lựa chọn dataset của tụi em khá thuận lợi do có nhiều sự lựa chọn để tìm ra bộ ưng ý nhất.\n",
    "    - Do nhóm nhỏ, nên việc làm việc nhóm khá hiệu quả, tụi em có thể trao đổi thông tin cho nhau nhiều hơn, quản lý quá trình làm đồ án tốt hơn.\n",
    "    - Các bài tập đã làm cũng giúp tụi em có nền tảng kiến thức tốt để chuẩn bị cho việc làm đồ án\n",
    "- **Khó khăn:** \n",
    "    - Ảnh hưởng dịch covid, kí túc xá thì trưng dụng làm khu cách li, xe khách về quê thì cấm, bị kẹt ở SG. Quán cafe thì đóng cửa, công việc làm thêm thì mất, ở nhờ ở đậu không có wifi học, lo cho cuộc sống chưa xong nên không có thời gian lo cho deadline nhiều ạ.\n",
    "    - Bộ dữ liệu khá lớn, nên ban đầu tụi em cũng khá hoang mang trong việc phân tích các cột dữ liệu.\n",
    "    - Việc quản lý thời gian còn chưa tốt lắm nên nhóm vẫn tồn đọng công việc trong ngày cuối.\n",
    "- **Có thể phát triển thêm:** \n",
    "    - Module cảnh báo không nên tham gia giao thông vào một thời điểm nhất định."
   ]
  },
  {
   "cell_type": "markdown",
   "metadata": {},
   "source": [
    "# Tài liệu tham khảo"
   ]
  },
  {
   "cell_type": "markdown",
   "metadata": {},
   "source": [
    "1. Tập dữ liệu:\n",
    "- https://www.kaggle.com/sobhanmoosavi/us-accidents\n",
    "2. Thông tin thêm về tập dữ liệu:\n",
    "- https://smoosavi.org/datasets/us_accidents"
   ]
  }
 ],
 "metadata": {
  "kernelspec": {
   "display_name": "Python 3",
   "language": "python",
   "name": "python3"
  },
  "language_info": {
   "codemirror_mode": {
    "name": "ipython",
    "version": 3
   },
   "file_extension": ".py",
   "mimetype": "text/x-python",
   "name": "python",
   "nbconvert_exporter": "python",
   "pygments_lexer": "ipython3",
   "version": "3.8.5"
  }
 },
 "nbformat": 4,
 "nbformat_minor": 4
}
